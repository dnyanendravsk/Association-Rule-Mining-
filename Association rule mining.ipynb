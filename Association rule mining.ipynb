{
 "cells": [
  {
   "cell_type": "markdown",
   "id": "3b198915",
   "metadata": {},
   "source": [
    "# Dataset Created for Association rule mining Process"
   ]
  },
  {
   "cell_type": "code",
   "execution_count": 1,
   "id": "8eed2a1c",
   "metadata": {},
   "outputs": [],
   "source": [
    "\n",
    "ARM_df = [['Milk', 'Onion', 'Chhole', 'Rajma', 'Ghee', 'Dahi'],\n",
    "     ['Dill', 'Onion', 'Chhole', 'Rajma', 'Ghee', 'Dahi'],\n",
    "     ['Milk', 'Apple', 'Rajma', 'Ghee'],\n",
    "     ['Milk', 'Mutter', 'Corn', 'Rajma', 'Dahi'],\n",
    "     ['Corn', 'Onion', 'Onion', 'Rajma', 'Ice cream', 'Ghee']]"
   ]
  },
  {
   "cell_type": "code",
   "execution_count": 2,
   "id": "9e9bb6fe",
   "metadata": {},
   "outputs": [
    {
     "data": {
      "text/plain": [
       "[['Milk', 'Onion', 'Chhole', 'Rajma', 'Ghee', 'Dahi'],\n",
       " ['Dill', 'Onion', 'Chhole', 'Rajma', 'Ghee', 'Dahi'],\n",
       " ['Milk', 'Apple', 'Rajma', 'Ghee'],\n",
       " ['Milk', 'Mutter', 'Corn', 'Rajma', 'Dahi'],\n",
       " ['Corn', 'Onion', 'Onion', 'Rajma', 'Ice cream', 'Ghee']]"
      ]
     },
     "execution_count": 2,
     "metadata": {},
     "output_type": "execute_result"
    }
   ],
   "source": [
    "ARM_df"
   ]
  },
  {
   "cell_type": "code",
   "execution_count": 3,
   "id": "fa5941d1",
   "metadata": {},
   "outputs": [
    {
     "name": "stdout",
     "output_type": "stream",
     "text": [
      "Requirement already satisfied: mlxtend in c:\\users\\hp\\anaconda3\\envs\\deep_learning\\lib\\site-packages (0.19.0)\n",
      "Requirement already satisfied: matplotlib>=3.0.0 in c:\\users\\hp\\anaconda3\\envs\\deep_learning\\lib\\site-packages (from mlxtend) (3.5.1)\n",
      "Requirement already satisfied: setuptools in c:\\users\\hp\\anaconda3\\envs\\deep_learning\\lib\\site-packages (from mlxtend) (58.0.4)\n",
      "Requirement already satisfied: numpy>=1.16.2 in c:\\users\\hp\\anaconda3\\envs\\deep_learning\\lib\\site-packages (from mlxtend) (1.20.3)\n",
      "Requirement already satisfied: joblib>=0.13.2 in c:\\users\\hp\\anaconda3\\envs\\deep_learning\\lib\\site-packages (from mlxtend) (1.1.0)\n",
      "Requirement already satisfied: scipy>=1.2.1 in c:\\users\\hp\\anaconda3\\envs\\deep_learning\\lib\\site-packages (from mlxtend) (1.7.3)\n",
      "Requirement already satisfied: scikit-learn>=0.20.3 in c:\\users\\hp\\anaconda3\\envs\\deep_learning\\lib\\site-packages (from mlxtend) (1.0.2)\n",
      "Requirement already satisfied: pandas>=0.24.2 in c:\\users\\hp\\anaconda3\\envs\\deep_learning\\lib\\site-packages (from mlxtend) (1.4.1)\n",
      "Requirement already satisfied: kiwisolver>=1.0.1 in c:\\users\\hp\\anaconda3\\envs\\deep_learning\\lib\\site-packages (from matplotlib>=3.0.0->mlxtend) (1.3.2)\n",
      "Requirement already satisfied: python-dateutil>=2.7 in c:\\users\\hp\\anaconda3\\envs\\deep_learning\\lib\\site-packages (from matplotlib>=3.0.0->mlxtend) (2.8.2)\n",
      "Requirement already satisfied: cycler>=0.10 in c:\\users\\hp\\anaconda3\\envs\\deep_learning\\lib\\site-packages (from matplotlib>=3.0.0->mlxtend) (0.11.0)\n",
      "Requirement already satisfied: pyparsing>=2.2.1 in c:\\users\\hp\\anaconda3\\envs\\deep_learning\\lib\\site-packages (from matplotlib>=3.0.0->mlxtend) (3.0.4)\n",
      "Requirement already satisfied: pillow>=6.2.0 in c:\\users\\hp\\anaconda3\\envs\\deep_learning\\lib\\site-packages (from matplotlib>=3.0.0->mlxtend) (9.0.1)\n",
      "Requirement already satisfied: packaging>=20.0 in c:\\users\\hp\\anaconda3\\envs\\deep_learning\\lib\\site-packages (from matplotlib>=3.0.0->mlxtend) (21.3)\n",
      "Requirement already satisfied: fonttools>=4.22.0 in c:\\users\\hp\\anaconda3\\envs\\deep_learning\\lib\\site-packages (from matplotlib>=3.0.0->mlxtend) (4.25.0)\n",
      "Requirement already satisfied: pytz>=2020.1 in c:\\users\\hp\\anaconda3\\envs\\deep_learning\\lib\\site-packages (from pandas>=0.24.2->mlxtend) (2021.3)\n",
      "Requirement already satisfied: six>=1.5 in c:\\users\\hp\\anaconda3\\envs\\deep_learning\\lib\\site-packages (from python-dateutil>=2.7->matplotlib>=3.0.0->mlxtend) (1.16.0)\n",
      "Requirement already satisfied: threadpoolctl>=2.0.0 in c:\\users\\hp\\anaconda3\\envs\\deep_learning\\lib\\site-packages (from scikit-learn>=0.20.3->mlxtend) (2.2.0)\n",
      "Note: you may need to restart the kernel to use updated packages.\n"
     ]
    }
   ],
   "source": [
    "pip install mlxtend"
   ]
  },
  {
   "cell_type": "markdown",
   "id": "c89a85e2",
   "metadata": {},
   "source": [
    "# Transaction Encoder Convert\n",
    "Item lists into transaction data for frequent itemset mining"
   ]
  },
  {
   "cell_type": "code",
   "execution_count": 4,
   "id": "67acff8e",
   "metadata": {},
   "outputs": [],
   "source": [
    "from mlxtend.preprocessing import TransactionEncoder \n",
    "\n",
    "te = TransactionEncoder()\n",
    "import pandas as pd\n",
    "A = pd.DataFrame(te.fit_transform(ARM_df),columns=te.columns_)"
   ]
  },
  {
   "cell_type": "code",
   "execution_count": 5,
   "id": "0132f465",
   "metadata": {},
   "outputs": [
    {
     "data": {
      "text/html": [
       "<div>\n",
       "<style scoped>\n",
       "    .dataframe tbody tr th:only-of-type {\n",
       "        vertical-align: middle;\n",
       "    }\n",
       "\n",
       "    .dataframe tbody tr th {\n",
       "        vertical-align: top;\n",
       "    }\n",
       "\n",
       "    .dataframe thead th {\n",
       "        text-align: right;\n",
       "    }\n",
       "</style>\n",
       "<table border=\"1\" class=\"dataframe\">\n",
       "  <thead>\n",
       "    <tr style=\"text-align: right;\">\n",
       "      <th></th>\n",
       "      <th>Apple</th>\n",
       "      <th>Chhole</th>\n",
       "      <th>Corn</th>\n",
       "      <th>Dahi</th>\n",
       "      <th>Dill</th>\n",
       "      <th>Ghee</th>\n",
       "      <th>Ice cream</th>\n",
       "      <th>Milk</th>\n",
       "      <th>Mutter</th>\n",
       "      <th>Onion</th>\n",
       "      <th>Rajma</th>\n",
       "    </tr>\n",
       "  </thead>\n",
       "  <tbody>\n",
       "    <tr>\n",
       "      <th>0</th>\n",
       "      <td>False</td>\n",
       "      <td>True</td>\n",
       "      <td>False</td>\n",
       "      <td>True</td>\n",
       "      <td>False</td>\n",
       "      <td>True</td>\n",
       "      <td>False</td>\n",
       "      <td>True</td>\n",
       "      <td>False</td>\n",
       "      <td>True</td>\n",
       "      <td>True</td>\n",
       "    </tr>\n",
       "    <tr>\n",
       "      <th>1</th>\n",
       "      <td>False</td>\n",
       "      <td>True</td>\n",
       "      <td>False</td>\n",
       "      <td>True</td>\n",
       "      <td>True</td>\n",
       "      <td>True</td>\n",
       "      <td>False</td>\n",
       "      <td>False</td>\n",
       "      <td>False</td>\n",
       "      <td>True</td>\n",
       "      <td>True</td>\n",
       "    </tr>\n",
       "    <tr>\n",
       "      <th>2</th>\n",
       "      <td>True</td>\n",
       "      <td>False</td>\n",
       "      <td>False</td>\n",
       "      <td>False</td>\n",
       "      <td>False</td>\n",
       "      <td>True</td>\n",
       "      <td>False</td>\n",
       "      <td>True</td>\n",
       "      <td>False</td>\n",
       "      <td>False</td>\n",
       "      <td>True</td>\n",
       "    </tr>\n",
       "    <tr>\n",
       "      <th>3</th>\n",
       "      <td>False</td>\n",
       "      <td>False</td>\n",
       "      <td>True</td>\n",
       "      <td>True</td>\n",
       "      <td>False</td>\n",
       "      <td>False</td>\n",
       "      <td>False</td>\n",
       "      <td>True</td>\n",
       "      <td>True</td>\n",
       "      <td>False</td>\n",
       "      <td>True</td>\n",
       "    </tr>\n",
       "    <tr>\n",
       "      <th>4</th>\n",
       "      <td>False</td>\n",
       "      <td>False</td>\n",
       "      <td>True</td>\n",
       "      <td>False</td>\n",
       "      <td>False</td>\n",
       "      <td>True</td>\n",
       "      <td>True</td>\n",
       "      <td>False</td>\n",
       "      <td>False</td>\n",
       "      <td>True</td>\n",
       "      <td>True</td>\n",
       "    </tr>\n",
       "  </tbody>\n",
       "</table>\n",
       "</div>"
      ],
      "text/plain": [
       "   Apple  Chhole   Corn   Dahi   Dill   Ghee  Ice cream   Milk  Mutter  Onion  \\\n",
       "0  False    True  False   True  False   True      False   True   False   True   \n",
       "1  False    True  False   True   True   True      False  False   False   True   \n",
       "2   True   False  False  False  False   True      False   True   False  False   \n",
       "3  False   False   True   True  False  False      False   True    True  False   \n",
       "4  False   False   True  False  False   True       True  False   False   True   \n",
       "\n",
       "   Rajma  \n",
       "0   True  \n",
       "1   True  \n",
       "2   True  \n",
       "3   True  \n",
       "4   True  "
      ]
     },
     "execution_count": 5,
     "metadata": {},
     "output_type": "execute_result"
    }
   ],
   "source": [
    "A"
   ]
  },
  {
   "cell_type": "code",
   "execution_count": 6,
   "id": "ae6f4d61",
   "metadata": {},
   "outputs": [],
   "source": [
    "from mlxtend.frequent_patterns import apriori\n",
    "Q = apriori(A,min_support = 0.5,use_colnames = True)"
   ]
  },
  {
   "cell_type": "code",
   "execution_count": 7,
   "id": "db7d245c",
   "metadata": {},
   "outputs": [],
   "source": [
    "P = []\n",
    "for i in Q.itemsets:\n",
    "    P.append(len(i))"
   ]
  },
  {
   "cell_type": "code",
   "execution_count": 8,
   "id": "14f039a5",
   "metadata": {},
   "outputs": [
    {
     "data": {
      "text/plain": [
       "[1, 1, 1, 1, 1, 2, 2, 2, 2, 2, 3]"
      ]
     },
     "execution_count": 8,
     "metadata": {},
     "output_type": "execute_result"
    }
   ],
   "source": [
    "P"
   ]
  },
  {
   "cell_type": "code",
   "execution_count": 9,
   "id": "0caf8f00",
   "metadata": {},
   "outputs": [],
   "source": [
    "Q['S']=P"
   ]
  },
  {
   "cell_type": "code",
   "execution_count": 10,
   "id": "62d9d935",
   "metadata": {},
   "outputs": [
    {
     "data": {
      "text/html": [
       "<div>\n",
       "<style scoped>\n",
       "    .dataframe tbody tr th:only-of-type {\n",
       "        vertical-align: middle;\n",
       "    }\n",
       "\n",
       "    .dataframe tbody tr th {\n",
       "        vertical-align: top;\n",
       "    }\n",
       "\n",
       "    .dataframe thead th {\n",
       "        text-align: right;\n",
       "    }\n",
       "</style>\n",
       "<table border=\"1\" class=\"dataframe\">\n",
       "  <thead>\n",
       "    <tr style=\"text-align: right;\">\n",
       "      <th></th>\n",
       "      <th>support</th>\n",
       "      <th>itemsets</th>\n",
       "      <th>S</th>\n",
       "    </tr>\n",
       "  </thead>\n",
       "  <tbody>\n",
       "    <tr>\n",
       "      <th>5</th>\n",
       "      <td>0.6</td>\n",
       "      <td>(Rajma, Dahi)</td>\n",
       "      <td>2</td>\n",
       "    </tr>\n",
       "    <tr>\n",
       "      <th>6</th>\n",
       "      <td>0.6</td>\n",
       "      <td>(Ghee, Onion)</td>\n",
       "      <td>2</td>\n",
       "    </tr>\n",
       "    <tr>\n",
       "      <th>7</th>\n",
       "      <td>0.8</td>\n",
       "      <td>(Ghee, Rajma)</td>\n",
       "      <td>2</td>\n",
       "    </tr>\n",
       "    <tr>\n",
       "      <th>8</th>\n",
       "      <td>0.6</td>\n",
       "      <td>(Rajma, Milk)</td>\n",
       "      <td>2</td>\n",
       "    </tr>\n",
       "    <tr>\n",
       "      <th>9</th>\n",
       "      <td>0.6</td>\n",
       "      <td>(Rajma, Onion)</td>\n",
       "      <td>2</td>\n",
       "    </tr>\n",
       "  </tbody>\n",
       "</table>\n",
       "</div>"
      ],
      "text/plain": [
       "   support        itemsets  S\n",
       "5      0.6   (Rajma, Dahi)  2\n",
       "6      0.6   (Ghee, Onion)  2\n",
       "7      0.8   (Ghee, Rajma)  2\n",
       "8      0.6   (Rajma, Milk)  2\n",
       "9      0.6  (Rajma, Onion)  2"
      ]
     },
     "execution_count": 10,
     "metadata": {},
     "output_type": "execute_result"
    }
   ],
   "source": [
    "Q[Q.S == 2]"
   ]
  },
  {
   "cell_type": "code",
   "execution_count": 11,
   "id": "21fe0e99",
   "metadata": {},
   "outputs": [
    {
     "data": {
      "text/plain": [
       "5"
      ]
     },
     "execution_count": 11,
     "metadata": {},
     "output_type": "execute_result"
    }
   ],
   "source": [
    "len(A.Rajma)"
   ]
  },
  {
   "cell_type": "code",
   "execution_count": 12,
   "id": "c7d82e1c",
   "metadata": {},
   "outputs": [
    {
     "data": {
      "text/plain": [
       "3"
      ]
     },
     "execution_count": 12,
     "metadata": {},
     "output_type": "execute_result"
    }
   ],
   "source": [
    "A[[\"Rajma\",\"Dahi\"]].sum()[1]"
   ]
  },
  {
   "cell_type": "code",
   "execution_count": 13,
   "id": "3f4a3bdd",
   "metadata": {},
   "outputs": [
    {
     "data": {
      "text/plain": [
       "0.6"
      ]
     },
     "execution_count": 13,
     "metadata": {},
     "output_type": "execute_result"
    }
   ],
   "source": [
    "3/5"
   ]
  },
  {
   "cell_type": "code",
   "execution_count": 14,
   "id": "bfb139fa",
   "metadata": {},
   "outputs": [],
   "source": [
    "num = A[(A.Rajma == True) & (A.Dahi == True)].shape[0]\n",
    "den = A[(A.Rajma == True)].shape[0]\n",
    "conf = num/den"
   ]
  },
  {
   "cell_type": "code",
   "execution_count": 15,
   "id": "fb63f9b1",
   "metadata": {},
   "outputs": [
    {
     "data": {
      "text/plain": [
       "0.6"
      ]
     },
     "execution_count": 15,
     "metadata": {},
     "output_type": "execute_result"
    }
   ],
   "source": [
    "conf"
   ]
  },
  {
   "cell_type": "code",
   "execution_count": 16,
   "id": "2023b1f1",
   "metadata": {},
   "outputs": [],
   "source": [
    "def confidence (A,x,y):\n",
    "    num = A[(A[x] == True) & (A[y] == True)].shape[0]\n",
    "    den = A[(A[x] == True)].shape[0]\n",
    "    conf = num/den\n",
    "    return conf"
   ]
  },
  {
   "cell_type": "code",
   "execution_count": 17,
   "id": "13c0ff49",
   "metadata": {},
   "outputs": [
    {
     "data": {
      "text/plain": [
       "0.75"
      ]
     },
     "execution_count": 17,
     "metadata": {},
     "output_type": "execute_result"
    }
   ],
   "source": [
    "confidence (A,\"Ghee\",\"Onion\")\n"
   ]
  },
  {
   "cell_type": "code",
   "execution_count": 18,
   "id": "1dc497a9",
   "metadata": {},
   "outputs": [
    {
     "data": {
      "text/plain": [
       "0.8"
      ]
     },
     "execution_count": 18,
     "metadata": {},
     "output_type": "execute_result"
    }
   ],
   "source": [
    "confidence(A,\"Rajma\",\"Ghee\")"
   ]
  },
  {
   "cell_type": "code",
   "execution_count": 19,
   "id": "6bf89e55",
   "metadata": {},
   "outputs": [],
   "source": [
    "def supp(df,i,j):\n",
    "    num = A[(A[i] == True) & (A[j]== True)].shape[0]\n",
    "    den = A.shape[0]\n",
    "    sup = num/den\n",
    "    return sup"
   ]
  },
  {
   "cell_type": "code",
   "execution_count": 20,
   "id": "5a21e9cf",
   "metadata": {},
   "outputs": [
    {
     "name": "stdout",
     "output_type": "stream",
     "text": [
      "Apple Apple 0.2 1.0\n",
      "Apple Chhole 0.0 0.0\n",
      "Apple Corn 0.0 0.0\n",
      "Apple Dahi 0.0 0.0\n",
      "Apple Dill 0.0 0.0\n",
      "Apple Ghee 0.2 1.0\n",
      "Apple Ice cream 0.0 0.0\n",
      "Apple Milk 0.2 1.0\n",
      "Apple Mutter 0.0 0.0\n",
      "Apple Onion 0.0 0.0\n",
      "Apple Rajma 0.2 1.0\n",
      "Chhole Apple 0.0 0.0\n",
      "Chhole Chhole 0.4 1.0\n",
      "Chhole Corn 0.0 0.0\n",
      "Chhole Dahi 0.4 1.0\n",
      "Chhole Dill 0.2 0.5\n",
      "Chhole Ghee 0.4 1.0\n",
      "Chhole Ice cream 0.0 0.0\n",
      "Chhole Milk 0.2 0.5\n",
      "Chhole Mutter 0.0 0.0\n",
      "Chhole Onion 0.4 1.0\n",
      "Chhole Rajma 0.4 1.0\n",
      "Corn Apple 0.0 0.0\n",
      "Corn Chhole 0.0 0.0\n",
      "Corn Corn 0.4 1.0\n",
      "Corn Dahi 0.2 0.5\n",
      "Corn Dill 0.0 0.0\n",
      "Corn Ghee 0.2 0.5\n",
      "Corn Ice cream 0.2 0.5\n",
      "Corn Milk 0.2 0.5\n",
      "Corn Mutter 0.2 0.5\n",
      "Corn Onion 0.2 0.5\n",
      "Corn Rajma 0.4 1.0\n",
      "Dahi Apple 0.0 0.0\n",
      "Dahi Chhole 0.4 0.6666666666666666\n",
      "Dahi Corn 0.2 0.3333333333333333\n",
      "Dahi Dahi 0.6 1.0\n",
      "Dahi Dill 0.2 0.3333333333333333\n",
      "Dahi Ghee 0.4 0.6666666666666666\n",
      "Dahi Ice cream 0.0 0.0\n",
      "Dahi Milk 0.4 0.6666666666666666\n",
      "Dahi Mutter 0.2 0.3333333333333333\n",
      "Dahi Onion 0.4 0.6666666666666666\n",
      "Dahi Rajma 0.6 1.0\n",
      "Dill Apple 0.0 0.0\n",
      "Dill Chhole 0.2 1.0\n",
      "Dill Corn 0.0 0.0\n",
      "Dill Dahi 0.2 1.0\n",
      "Dill Dill 0.2 1.0\n",
      "Dill Ghee 0.2 1.0\n",
      "Dill Ice cream 0.0 0.0\n",
      "Dill Milk 0.0 0.0\n",
      "Dill Mutter 0.0 0.0\n",
      "Dill Onion 0.2 1.0\n",
      "Dill Rajma 0.2 1.0\n",
      "Ghee Apple 0.2 0.25\n",
      "Ghee Chhole 0.4 0.5\n",
      "Ghee Corn 0.2 0.25\n",
      "Ghee Dahi 0.4 0.5\n",
      "Ghee Dill 0.2 0.25\n",
      "Ghee Ghee 0.8 1.0\n",
      "Ghee Ice cream 0.2 0.25\n",
      "Ghee Milk 0.4 0.5\n",
      "Ghee Mutter 0.0 0.0\n",
      "Ghee Onion 0.6 0.75\n",
      "Ghee Rajma 0.8 1.0\n",
      "Ice cream Apple 0.0 0.0\n",
      "Ice cream Chhole 0.0 0.0\n",
      "Ice cream Corn 0.2 1.0\n",
      "Ice cream Dahi 0.0 0.0\n",
      "Ice cream Dill 0.0 0.0\n",
      "Ice cream Ghee 0.2 1.0\n",
      "Ice cream Ice cream 0.2 1.0\n",
      "Ice cream Milk 0.0 0.0\n",
      "Ice cream Mutter 0.0 0.0\n",
      "Ice cream Onion 0.2 1.0\n",
      "Ice cream Rajma 0.2 1.0\n",
      "Milk Apple 0.2 0.3333333333333333\n",
      "Milk Chhole 0.2 0.3333333333333333\n",
      "Milk Corn 0.2 0.3333333333333333\n",
      "Milk Dahi 0.4 0.6666666666666666\n",
      "Milk Dill 0.0 0.0\n",
      "Milk Ghee 0.4 0.6666666666666666\n",
      "Milk Ice cream 0.0 0.0\n",
      "Milk Milk 0.6 1.0\n",
      "Milk Mutter 0.2 0.3333333333333333\n",
      "Milk Onion 0.2 0.3333333333333333\n",
      "Milk Rajma 0.6 1.0\n",
      "Mutter Apple 0.0 0.0\n",
      "Mutter Chhole 0.0 0.0\n",
      "Mutter Corn 0.2 1.0\n",
      "Mutter Dahi 0.2 1.0\n",
      "Mutter Dill 0.0 0.0\n",
      "Mutter Ghee 0.0 0.0\n",
      "Mutter Ice cream 0.0 0.0\n",
      "Mutter Milk 0.2 1.0\n",
      "Mutter Mutter 0.2 1.0\n",
      "Mutter Onion 0.0 0.0\n",
      "Mutter Rajma 0.2 1.0\n",
      "Onion Apple 0.0 0.0\n",
      "Onion Chhole 0.4 0.6666666666666666\n",
      "Onion Corn 0.2 0.3333333333333333\n",
      "Onion Dahi 0.4 0.6666666666666666\n",
      "Onion Dill 0.2 0.3333333333333333\n",
      "Onion Ghee 0.6 1.0\n",
      "Onion Ice cream 0.2 0.3333333333333333\n",
      "Onion Milk 0.2 0.3333333333333333\n",
      "Onion Mutter 0.0 0.0\n",
      "Onion Onion 0.6 1.0\n",
      "Onion Rajma 0.6 1.0\n",
      "Rajma Apple 0.2 0.2\n",
      "Rajma Chhole 0.4 0.4\n",
      "Rajma Corn 0.4 0.4\n",
      "Rajma Dahi 0.6 0.6\n",
      "Rajma Dill 0.2 0.2\n",
      "Rajma Ghee 0.8 0.8\n",
      "Rajma Ice cream 0.2 0.2\n",
      "Rajma Milk 0.6 0.6\n",
      "Rajma Mutter 0.2 0.2\n",
      "Rajma Onion 0.6 0.6\n",
      "Rajma Rajma 1.0 1.0\n"
     ]
    }
   ],
   "source": [
    "for i in A.columns:\n",
    "    for j in A.columns:\n",
    "        print(i,j,supp(A,i,j),confidence(A,i,j))"
   ]
  },
  {
   "cell_type": "code",
   "execution_count": 21,
   "id": "e1776f8a",
   "metadata": {},
   "outputs": [],
   "source": [
    "rule = []\n",
    "support = []\n",
    "conf = []\n",
    "for i in A.columns:\n",
    "    for j in A.columns:\n",
    "        if(i !=j):\n",
    "            rule.append(i + \" \" + j)\n",
    "            support.append(supp(A,i,j))\n",
    "            conf.append(confidence(A,i,j))"
   ]
  },
  {
   "cell_type": "code",
   "execution_count": 22,
   "id": "aa6e62a8",
   "metadata": {},
   "outputs": [],
   "source": [
    "T = pd.DataFrame([rule,support,conf]).T\n",
    "T.columns = [\"Rule\",\"Supp\",\"Conf\"]"
   ]
  },
  {
   "cell_type": "code",
   "execution_count": 23,
   "id": "219c7d8b",
   "metadata": {},
   "outputs": [
    {
     "data": {
      "text/html": [
       "<div>\n",
       "<style scoped>\n",
       "    .dataframe tbody tr th:only-of-type {\n",
       "        vertical-align: middle;\n",
       "    }\n",
       "\n",
       "    .dataframe tbody tr th {\n",
       "        vertical-align: top;\n",
       "    }\n",
       "\n",
       "    .dataframe thead th {\n",
       "        text-align: right;\n",
       "    }\n",
       "</style>\n",
       "<table border=\"1\" class=\"dataframe\">\n",
       "  <thead>\n",
       "    <tr style=\"text-align: right;\">\n",
       "      <th></th>\n",
       "      <th>Rule</th>\n",
       "      <th>Supp</th>\n",
       "      <th>Conf</th>\n",
       "    </tr>\n",
       "  </thead>\n",
       "  <tbody>\n",
       "    <tr>\n",
       "      <th>0</th>\n",
       "      <td>Apple Chhole</td>\n",
       "      <td>0.0</td>\n",
       "      <td>0.0</td>\n",
       "    </tr>\n",
       "    <tr>\n",
       "      <th>1</th>\n",
       "      <td>Apple Corn</td>\n",
       "      <td>0.0</td>\n",
       "      <td>0.0</td>\n",
       "    </tr>\n",
       "    <tr>\n",
       "      <th>2</th>\n",
       "      <td>Apple Dahi</td>\n",
       "      <td>0.0</td>\n",
       "      <td>0.0</td>\n",
       "    </tr>\n",
       "    <tr>\n",
       "      <th>3</th>\n",
       "      <td>Apple Dill</td>\n",
       "      <td>0.0</td>\n",
       "      <td>0.0</td>\n",
       "    </tr>\n",
       "    <tr>\n",
       "      <th>4</th>\n",
       "      <td>Apple Ghee</td>\n",
       "      <td>0.2</td>\n",
       "      <td>1.0</td>\n",
       "    </tr>\n",
       "  </tbody>\n",
       "</table>\n",
       "</div>"
      ],
      "text/plain": [
       "           Rule Supp Conf\n",
       "0  Apple Chhole  0.0  0.0\n",
       "1    Apple Corn  0.0  0.0\n",
       "2    Apple Dahi  0.0  0.0\n",
       "3    Apple Dill  0.0  0.0\n",
       "4    Apple Ghee  0.2  1.0"
      ]
     },
     "execution_count": 23,
     "metadata": {},
     "output_type": "execute_result"
    }
   ],
   "source": [
    "T.head()"
   ]
  },
  {
   "cell_type": "code",
   "execution_count": 24,
   "id": "322cb3d2",
   "metadata": {},
   "outputs": [
    {
     "data": {
      "text/html": [
       "<div>\n",
       "<style scoped>\n",
       "    .dataframe tbody tr th:only-of-type {\n",
       "        vertical-align: middle;\n",
       "    }\n",
       "\n",
       "    .dataframe tbody tr th {\n",
       "        vertical-align: top;\n",
       "    }\n",
       "\n",
       "    .dataframe thead th {\n",
       "        text-align: right;\n",
       "    }\n",
       "</style>\n",
       "<table border=\"1\" class=\"dataframe\">\n",
       "  <thead>\n",
       "    <tr style=\"text-align: right;\">\n",
       "      <th></th>\n",
       "      <th>Rule</th>\n",
       "      <th>Supp</th>\n",
       "      <th>Conf</th>\n",
       "    </tr>\n",
       "  </thead>\n",
       "  <tbody>\n",
       "    <tr>\n",
       "      <th>39</th>\n",
       "      <td>Dahi Rajma</td>\n",
       "      <td>0.6</td>\n",
       "      <td>1.0</td>\n",
       "    </tr>\n",
       "    <tr>\n",
       "      <th>58</th>\n",
       "      <td>Ghee Onion</td>\n",
       "      <td>0.6</td>\n",
       "      <td>0.75</td>\n",
       "    </tr>\n",
       "    <tr>\n",
       "      <th>59</th>\n",
       "      <td>Ghee Rajma</td>\n",
       "      <td>0.8</td>\n",
       "      <td>1.0</td>\n",
       "    </tr>\n",
       "    <tr>\n",
       "      <th>79</th>\n",
       "      <td>Milk Rajma</td>\n",
       "      <td>0.6</td>\n",
       "      <td>1.0</td>\n",
       "    </tr>\n",
       "    <tr>\n",
       "      <th>95</th>\n",
       "      <td>Onion Ghee</td>\n",
       "      <td>0.6</td>\n",
       "      <td>1.0</td>\n",
       "    </tr>\n",
       "    <tr>\n",
       "      <th>99</th>\n",
       "      <td>Onion Rajma</td>\n",
       "      <td>0.6</td>\n",
       "      <td>1.0</td>\n",
       "    </tr>\n",
       "    <tr>\n",
       "      <th>103</th>\n",
       "      <td>Rajma Dahi</td>\n",
       "      <td>0.6</td>\n",
       "      <td>0.6</td>\n",
       "    </tr>\n",
       "    <tr>\n",
       "      <th>105</th>\n",
       "      <td>Rajma Ghee</td>\n",
       "      <td>0.8</td>\n",
       "      <td>0.8</td>\n",
       "    </tr>\n",
       "    <tr>\n",
       "      <th>107</th>\n",
       "      <td>Rajma Milk</td>\n",
       "      <td>0.6</td>\n",
       "      <td>0.6</td>\n",
       "    </tr>\n",
       "    <tr>\n",
       "      <th>109</th>\n",
       "      <td>Rajma Onion</td>\n",
       "      <td>0.6</td>\n",
       "      <td>0.6</td>\n",
       "    </tr>\n",
       "  </tbody>\n",
       "</table>\n",
       "</div>"
      ],
      "text/plain": [
       "            Rule Supp  Conf\n",
       "39    Dahi Rajma  0.6   1.0\n",
       "58    Ghee Onion  0.6  0.75\n",
       "59    Ghee Rajma  0.8   1.0\n",
       "79    Milk Rajma  0.6   1.0\n",
       "95    Onion Ghee  0.6   1.0\n",
       "99   Onion Rajma  0.6   1.0\n",
       "103   Rajma Dahi  0.6   0.6\n",
       "105   Rajma Ghee  0.8   0.8\n",
       "107   Rajma Milk  0.6   0.6\n",
       "109  Rajma Onion  0.6   0.6"
      ]
     },
     "execution_count": 24,
     "metadata": {},
     "output_type": "execute_result"
    }
   ],
   "source": [
    "T[(T.Supp > 0.4) & (T.Conf > 0.4)]"
   ]
  },
  {
   "cell_type": "markdown",
   "id": "b9397e6d",
   "metadata": {},
   "source": [
    "# Here from the above observations we have found Rule, Support & Confidence for proctucts "
   ]
  },
  {
   "cell_type": "code",
   "execution_count": null,
   "id": "2142f530",
   "metadata": {},
   "outputs": [],
   "source": []
  },
  {
   "cell_type": "code",
   "execution_count": null,
   "id": "60bb7ae6",
   "metadata": {},
   "outputs": [],
   "source": []
  },
  {
   "cell_type": "code",
   "execution_count": null,
   "id": "ded6c1af",
   "metadata": {},
   "outputs": [],
   "source": []
  },
  {
   "cell_type": "code",
   "execution_count": null,
   "id": "d008aa57",
   "metadata": {},
   "outputs": [],
   "source": []
  },
  {
   "cell_type": "code",
   "execution_count": null,
   "id": "9717980e",
   "metadata": {},
   "outputs": [],
   "source": []
  }
 ],
 "metadata": {
  "kernelspec": {
   "display_name": "Python 3",
   "language": "python",
   "name": "python3"
  },
  "language_info": {
   "codemirror_mode": {
    "name": "ipython",
    "version": 3
   },
   "file_extension": ".py",
   "mimetype": "text/x-python",
   "name": "python",
   "nbconvert_exporter": "python",
   "pygments_lexer": "ipython3",
   "version": "3.8.8"
  }
 },
 "nbformat": 4,
 "nbformat_minor": 5
}
